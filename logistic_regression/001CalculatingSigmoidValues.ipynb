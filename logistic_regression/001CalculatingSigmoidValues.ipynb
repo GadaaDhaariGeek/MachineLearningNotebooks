{
 "cells": [
  {
   "cell_type": "code",
   "execution_count": 1,
   "metadata": {},
   "outputs": [],
   "source": [
    "# Linear Classification is basically finding a line (2d), or a plane (3d) or hyperplane which can separate the points of \n",
    "# differennt classes or groups.\n",
    "\n",
    "# Logistic Regression also tries to find the line and made naturally for 2 class setting but can be used with multiclass \n",
    "# setting using OVR and other techniques.\n",
    "\n",
    "# Logistic Regression uses sigmoid function (or tanh function sometimes) to give probability that p(y=1|X).\n",
    "# It is one of the GLMs where the dependent variable follows Bernoulli distribution."
   ]
  },
  {
   "cell_type": "code",
   "execution_count": 2,
   "metadata": {},
   "outputs": [],
   "source": [
    "import numpy as np\n",
    "import matplotlib.pyplot as plt"
   ]
  },
  {
   "cell_type": "code",
   "execution_count": 3,
   "metadata": {},
   "outputs": [],
   "source": [
    "N = 100\n",
    "D = 2"
   ]
  },
  {
   "cell_type": "code",
   "execution_count": 24,
   "metadata": {},
   "outputs": [],
   "source": [
    "# Random normal values\n",
    "X = np.random.randn(N, D)\n",
    "\n",
    "# Adding the bias term \n",
    "ones = np.ones(N).reshape(-1, 1)\n",
    "Xb = np.concatenate((ones, X), axis=1)\n",
    "\n",
    "# Random weights initialization\n",
    "w = np.random.randn(D+1)\n",
    "\n",
    "# Calculate the z\n",
    "z = Xb.dot(w)"
   ]
  },
  {
   "cell_type": "code",
   "execution_count": 25,
   "metadata": {},
   "outputs": [],
   "source": [
    "# defining sigmoid function\n",
    "def sigmoid(z):\n",
    "    return 1/(1 + np.exp(-z))"
   ]
  },
  {
   "cell_type": "code",
   "execution_count": 26,
   "metadata": {},
   "outputs": [
    {
     "name": "stdout",
     "output_type": "stream",
     "text": [
      "[0.73737969 0.54339676 0.99694335 0.80195342 0.92473333 0.80958131\n",
      " 0.96400606 0.77851946 0.87132009 0.87915771 0.94117858 0.98502881\n",
      " 0.27892762 0.66647494 0.54580379 0.58395857 0.60201005 0.74134508\n",
      " 0.78633158 0.89171873 0.85612887 0.72082132 0.90312705 0.31082277\n",
      " 0.82529908 0.74540524 0.58261526 0.60679416 0.98368469 0.64809293\n",
      " 0.61478003 0.13466185 0.57492567 0.91878047 0.99118677 0.71189595\n",
      " 0.66204781 0.36484126 0.93758482 0.56286542 0.80750432 0.72245622\n",
      " 0.92167768 0.72462461 0.74014442 0.97868643 0.93363775 0.57332053\n",
      " 0.73806975 0.88750396 0.92473276 0.94725658 0.63857884 0.18926936\n",
      " 0.77555192 0.23527087 0.23826082 0.85985815 0.45952042 0.66795864\n",
      " 0.17710428 0.31376515 0.30010761 0.77771466 0.05341591 0.83772684\n",
      " 0.46116663 0.09701246 0.47287136 0.78869418 0.79679013 0.62674996\n",
      " 0.74767567 0.56543642 0.89494744 0.43308428 0.88064282 0.72584691\n",
      " 0.89238238 0.51444301 0.91253954 0.49964549 0.8918493  0.74444077\n",
      " 0.97499553 0.73152912 0.96971778 0.91009851 0.82882178 0.78657381\n",
      " 0.80139115 0.90525174 0.61100027 0.87927802 0.61691534 0.65530216\n",
      " 0.65294587 0.80390359 0.79909788 0.29568016]\n"
     ]
    }
   ],
   "source": [
    "print(sigmoid(z))"
   ]
  },
  {
   "cell_type": "code",
   "execution_count": null,
   "metadata": {},
   "outputs": [],
   "source": [
    "# How to interpret the output of Logistic Regression?\n",
    "\n",
    "# P(y=1|X) is the output of logistic regression. \n",
    "\n",
    "# Why does interpretation of output of logistic regression as probability makes sense?"
   ]
  }
 ],
 "metadata": {
  "kernelspec": {
   "display_name": "Python 3",
   "language": "python",
   "name": "python3"
  },
  "language_info": {
   "codemirror_mode": {
    "name": "ipython",
    "version": 3
   },
   "file_extension": ".py",
   "mimetype": "text/x-python",
   "name": "python",
   "nbconvert_exporter": "python",
   "pygments_lexer": "ipython3",
   "version": "3.6.5"
  }
 },
 "nbformat": 4,
 "nbformat_minor": 2
}
