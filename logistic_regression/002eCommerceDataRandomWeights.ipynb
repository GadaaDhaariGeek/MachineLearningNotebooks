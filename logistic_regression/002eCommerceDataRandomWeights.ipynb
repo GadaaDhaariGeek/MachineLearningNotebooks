{
 "cells": [
  {
   "cell_type": "code",
   "execution_count": 7,
   "metadata": {},
   "outputs": [],
   "source": [
    "import numpy as np\n",
    "import pandas as pd"
   ]
  },
  {
   "cell_type": "code",
   "execution_count": 8,
   "metadata": {},
   "outputs": [
    {
     "data": {
      "text/html": [
       "<div>\n",
       "<style scoped>\n",
       "    .dataframe tbody tr th:only-of-type {\n",
       "        vertical-align: middle;\n",
       "    }\n",
       "\n",
       "    .dataframe tbody tr th {\n",
       "        vertical-align: top;\n",
       "    }\n",
       "\n",
       "    .dataframe thead th {\n",
       "        text-align: right;\n",
       "    }\n",
       "</style>\n",
       "<table border=\"1\" class=\"dataframe\">\n",
       "  <thead>\n",
       "    <tr style=\"text-align: right;\">\n",
       "      <th></th>\n",
       "      <th>is_mobile</th>\n",
       "      <th>n_products_viewed</th>\n",
       "      <th>visit_duration</th>\n",
       "      <th>is_returning_visitor</th>\n",
       "      <th>time_of_day</th>\n",
       "      <th>user_action</th>\n",
       "    </tr>\n",
       "  </thead>\n",
       "  <tbody>\n",
       "    <tr>\n",
       "      <th>0</th>\n",
       "      <td>1</td>\n",
       "      <td>0</td>\n",
       "      <td>0.657510</td>\n",
       "      <td>0</td>\n",
       "      <td>3</td>\n",
       "      <td>0</td>\n",
       "    </tr>\n",
       "    <tr>\n",
       "      <th>1</th>\n",
       "      <td>1</td>\n",
       "      <td>1</td>\n",
       "      <td>0.568571</td>\n",
       "      <td>0</td>\n",
       "      <td>2</td>\n",
       "      <td>1</td>\n",
       "    </tr>\n",
       "    <tr>\n",
       "      <th>2</th>\n",
       "      <td>1</td>\n",
       "      <td>0</td>\n",
       "      <td>0.042246</td>\n",
       "      <td>1</td>\n",
       "      <td>1</td>\n",
       "      <td>0</td>\n",
       "    </tr>\n",
       "    <tr>\n",
       "      <th>3</th>\n",
       "      <td>1</td>\n",
       "      <td>1</td>\n",
       "      <td>1.659793</td>\n",
       "      <td>1</td>\n",
       "      <td>1</td>\n",
       "      <td>2</td>\n",
       "    </tr>\n",
       "    <tr>\n",
       "      <th>4</th>\n",
       "      <td>0</td>\n",
       "      <td>1</td>\n",
       "      <td>2.014745</td>\n",
       "      <td>1</td>\n",
       "      <td>1</td>\n",
       "      <td>2</td>\n",
       "    </tr>\n",
       "  </tbody>\n",
       "</table>\n",
       "</div>"
      ],
      "text/plain": [
       "   is_mobile  n_products_viewed  visit_duration  is_returning_visitor  \\\n",
       "0          1                  0        0.657510                     0   \n",
       "1          1                  1        0.568571                     0   \n",
       "2          1                  0        0.042246                     1   \n",
       "3          1                  1        1.659793                     1   \n",
       "4          0                  1        2.014745                     1   \n",
       "\n",
       "   time_of_day  user_action  \n",
       "0            3            0  \n",
       "1            2            1  \n",
       "2            1            0  \n",
       "3            1            2  \n",
       "4            1            2  "
      ]
     },
     "execution_count": 8,
     "metadata": {},
     "output_type": "execute_result"
    }
   ],
   "source": [
    "data = pd.read_csv(\"./ecommerce_data.csv\")\n",
    "data.head()"
   ]
  },
  {
   "cell_type": "code",
   "execution_count": 9,
   "metadata": {},
   "outputs": [
    {
     "data": {
      "text/plain": [
       "3    140\n",
       "2    127\n",
       "1    120\n",
       "0    113\n",
       "Name: time_of_day, dtype: int64"
      ]
     },
     "execution_count": 9,
     "metadata": {},
     "output_type": "execute_result"
    }
   ],
   "source": [
    "data[\"time_of_day\"].value_counts()"
   ]
  },
  {
   "cell_type": "code",
   "execution_count": null,
   "metadata": {},
   "outputs": [],
   "source": []
  },
  {
   "cell_type": "code",
   "execution_count": 10,
   "metadata": {},
   "outputs": [],
   "source": [
    "# 1. PROCESSING THE DATA \n",
    "def get_data():\n",
    "    df = pd.read_csv(\"./ecommerce_data.csv\")\n",
    "    \n",
    "    # Converting into numpy ndarray\n",
    "    data = df.values\n",
    "    \n",
    "    # Shuffle the data \n",
    "    np.random.shuffle(data)\n",
    "    \n",
    "    X = data[:, :-1]\n",
    "    y = data[:, -1]\n",
    "    \n",
    "    \n",
    "    # Working on categorical column\n",
    "    # making them one hot encoded\n",
    "    N, D = X.shape\n",
    "    \n",
    "    # D+3 as time_of_day has 4 different values (0, 1, 2, 3)\n",
    "    X2 = np.zeros((N, D+3))\n",
    "    X2[:, 0:(D-1)] = X[:, 0:(D-1)]\n",
    "    \n",
    "    # Getting the one hot encoded values for them\n",
    "    for n in range(N):\n",
    "        t = int(X[n, D-1])\n",
    "        # populating the values for that column and putting 1 for which it belongs\n",
    "        X2[n, t+D-1] = 1\n",
    "    \n",
    "    # split the data \n",
    "    X_train = X2[:-100]\n",
    "    y_train = y[:-100]\n",
    "    X_test = X2[-100:]\n",
    "    y_test = y[-100:]\n",
    "    \n",
    "    \n",
    "    # normalize the columns 1 and 2 \n",
    "    # see how do we calculate mean and sigma using training values only\n",
    "    for i in range(1, 3):\n",
    "        m = X_train[:, i].mean()\n",
    "        s = X_train[:, i].std()\n",
    "        \n",
    "        X_train[:, i] = (X_train[:, i] - m)/s\n",
    "        X_test[:, i] = (X_test[:, i] - m)/s\n",
    "    \n",
    "    \n",
    "    return X_train, X_test, y_train, y_test\n",
    "    "
   ]
  },
  {
   "cell_type": "code",
   "execution_count": 11,
   "metadata": {},
   "outputs": [],
   "source": [
    "def get_binary_data():\n",
    "    # Out class label takes 4 different values, so to make it suitable for logisticregression as of now, we will just take\n",
    "    # two categries only\n",
    "    X_train, X_test, y_train, y_test = get_data()\n",
    "    \n",
    "    X2_train = X_train[y_train <= 1]\n",
    "    y2_train = y_train[y_train <= 1]\n",
    "    X2_test = X_test[y_test <= 1]\n",
    "    y2_test = y_test[y_test <= 1]\n",
    "    \n",
    "    return X2_train, X2_test, y2_train, y_test"
   ]
  },
  {
   "cell_type": "code",
   "execution_count": 12,
   "metadata": {},
   "outputs": [
    {
     "name": "stdout",
     "output_type": "stream",
     "text": [
      "0.6833855799373041\n"
     ]
    }
   ],
   "source": [
    "# 2. MAKING PREDICTION \n",
    "X, _, y, _ = get_binary_data()\n",
    "\n",
    "\n",
    "D = X.shape[1]\n",
    "\n",
    "w = np.random.randn(D)\n",
    "b = 0\n",
    "\n",
    "def sigmoid(z):\n",
    "    return 1/(1 + np.exp(-z))\n",
    "\n",
    "def forward(X, w, b):\n",
    "    return sigmoid(X.dot(w) + b)\n",
    "\n",
    "p_y_X = forward(X, w, b)\n",
    "predictions = np.round(p_y_X)\n",
    "\n",
    "def classification_rate(y, p):\n",
    "    return np.mean(y == p)\n",
    "\n",
    "print(classification_rate(y, predictions))"
   ]
  },
  {
   "cell_type": "code",
   "execution_count": null,
   "metadata": {},
   "outputs": [],
   "source": [
    "# Here we get very low classification rate as weights are randomly assigned and these are not optimal weights."
   ]
  }
 ],
 "metadata": {
  "kernelspec": {
   "display_name": "Python 3",
   "language": "python",
   "name": "python3"
  },
  "language_info": {
   "codemirror_mode": {
    "name": "ipython",
    "version": 3
   },
   "file_extension": ".py",
   "mimetype": "text/x-python",
   "name": "python",
   "nbconvert_exporter": "python",
   "pygments_lexer": "ipython3",
   "version": "3.6.5"
  }
 },
 "nbformat": 4,
 "nbformat_minor": 2
}
