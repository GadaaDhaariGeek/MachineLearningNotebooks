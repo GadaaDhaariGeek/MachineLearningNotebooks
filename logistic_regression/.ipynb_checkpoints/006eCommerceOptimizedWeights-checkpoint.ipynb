{
 "cells": [
  {
   "cell_type": "code",
   "execution_count": 1,
   "metadata": {},
   "outputs": [],
   "source": [
    "import numpy as np \n",
    "import pandas as pd\n",
    "import matplotlib.pyplot as plt\n",
    "\n",
    "from sklearn.utils import shuffle"
   ]
  },
  {
   "cell_type": "code",
   "execution_count": 48,
   "metadata": {},
   "outputs": [],
   "source": [
    "# 1. PROCESSING THE DATA \n",
    "def get_data():\n",
    "    df = pd.read_csv(\"./ecommerce_data.csv\")\n",
    "    \n",
    "    # Converting into numpy ndarray\n",
    "    data = df.values\n",
    "    \n",
    "    # Shuffle the data \n",
    "    np.random.shuffle(data)\n",
    "    \n",
    "    X = data[:, :-1]\n",
    "    y = data[:, -1]\n",
    "    \n",
    "    \n",
    "    # Working on categorical column\n",
    "    # making them one hot encoded\n",
    "    N, D = X.shape\n",
    "    \n",
    "    # D+3 as time_of_day has 4 different values (0, 1, 2, 3)\n",
    "    X2 = np.zeros((N, D+3))\n",
    "    X2[:, 0:(D-1)] = X[:, 0:(D-1)]\n",
    "    \n",
    "    # Getting the one hot encoded values for them\n",
    "    for n in range(N):\n",
    "        t = int(X[n, D-1])\n",
    "        # populating the values for that column and putting 1 for which it belongs\n",
    "        X2[n, t+D-1] = 1\n",
    "    \n",
    "    # split the data \n",
    "    X_train = X2[:-100]\n",
    "    y_train = y[:-100]\n",
    "    X_test = X2[-100:]\n",
    "    y_test = y[-100:]\n",
    "    \n",
    "    \n",
    "    # normalize the columns 1 and 2 \n",
    "    # see how do we calculate mean and sigma using training values only\n",
    "    for i in range(1, 3):\n",
    "        m = X_train[:, i].mean()\n",
    "        s = X_train[:, i].std()\n",
    "        \n",
    "        X_train[:, i] = (X_train[:, i] - m)/s\n",
    "        X_test[:, i] = (X_test[:, i] - m)/s\n",
    "    \n",
    "    \n",
    "    return X_train, X_test, y_train, y_test\n",
    "    "
   ]
  },
  {
   "cell_type": "code",
   "execution_count": 49,
   "metadata": {},
   "outputs": [],
   "source": [
    "def get_binary_data():\n",
    "    # Out class label takes 4 different values, so to make it suitable for logisticregression as of now, we will \n",
    "    # just take\n",
    "    # two categries only\n",
    "    X_train, X_test, y_train, y_test = get_data()\n",
    "    \n",
    "    X2_train = X_train[y_train <= 1]\n",
    "    y2_train = y_train[y_train <= 1]\n",
    "    X2_test = X_test[y_test <= 1]\n",
    "    y2_test = y_test[y_test <= 1]\n",
    "    \n",
    "    return X2_train, X2_test, y2_train, y2_test"
   ]
  },
  {
   "cell_type": "code",
   "execution_count": 50,
   "metadata": {},
   "outputs": [],
   "source": [
    "X_train, X_test, y_train, y_test = get_binary_data()"
   ]
  },
  {
   "cell_type": "code",
   "execution_count": 51,
   "metadata": {},
   "outputs": [],
   "source": [
    "# random initialization of weights \n",
    "D = X_train.shape[1]\n",
    "w = np.random.randn(D)\n",
    "b = 0"
   ]
  },
  {
   "cell_type": "code",
   "execution_count": 54,
   "metadata": {},
   "outputs": [],
   "source": [
    "# make predictions\n",
    "def sigmoid(a):\n",
    "    return 1 / (1 + np.exp(-a))\n",
    "\n",
    "def forward(X, W, b):\n",
    "    return sigmoid(X.dot(W) + b)\n",
    "\n",
    "# calculate the accuracy\n",
    "def classification_rate(Y, P):\n",
    "    return np.mean(Y == P)\n",
    "\n",
    "# cross entropy\n",
    "def cross_entropy(T, pY):\n",
    "    return -np.mean(T*np.log(pY) + (1 - T)*np.log(1 - pY))"
   ]
  },
  {
   "cell_type": "code",
   "execution_count": 70,
   "metadata": {},
   "outputs": [
    {
     "name": "stdout",
     "output_type": "stream",
     "text": [
      "0 0.22294037584992818 0.07507484706331094\n"
     ]
    },
    {
     "name": "stderr",
     "output_type": "stream",
     "text": [
      "C:\\Users\\sharm\\Anaconda3\\lib\\site-packages\\ipykernel_launcher.py:14: RuntimeWarning: divide by zero encountered in log\n",
      "  \n",
      "C:\\Users\\sharm\\Anaconda3\\lib\\site-packages\\ipykernel_launcher.py:14: RuntimeWarning: invalid value encountered in multiply\n",
      "  \n"
     ]
    },
    {
     "name": "stdout",
     "output_type": "stream",
     "text": [
      "1000 nan 0.07036521233674947\n",
      "2000 nan 0.04354167610393843\n",
      "3000 0.2072302802764261 0.09093148906339676\n",
      "4000 0.2020927706122238 0.10405550850862505\n",
      "5000 0.2155379538697416 0.07939882097398494\n",
      "6000 0.20332713545123063 0.09962522369410018\n",
      "7000 0.20837250496579285 0.08948289747378967\n",
      "8000 nan 0.05179639996217152\n",
      "9000 0.20198439635009943 0.10493272064794017\n"
     ]
    }
   ],
   "source": [
    "# train loop\n",
    "train_costs = []\n",
    "test_costs = []\n",
    "learning_rate = .1\n",
    "for i in range(10000):\n",
    "    pYtrain = forward(X_train, w, b)\n",
    "    pYtest = forward(X_test, w, b)\n",
    "    \n",
    "    ctrain = cross_entropy(y_train, pYtrain)\n",
    "    ctest = cross_entropy(y_test, pYtest)\n",
    "    train_costs.append(ctrain)\n",
    "    test_costs.append(ctest)\n",
    "    \n",
    "    # gradient descent\n",
    "    w -= learning_rate*X_train.T.dot(pYtrain - y_train)\n",
    "    b -= learning_rate*(pYtrain - y_train).sum()\n",
    "    \n",
    "    if i % 1000 == 0:\n",
    "        print(i, ctrain, ctest)"
   ]
  },
  {
   "cell_type": "code",
   "execution_count": 45,
   "metadata": {},
   "outputs": [
    {
     "name": "stdout",
     "output_type": "stream",
     "text": [
      "Final train classification_rate: 0.9655172413793104\n",
      "Final test classification_rate: 0.9873417721518988\n"
     ]
    },
    {
     "data": {
      "image/png": "[encoded data removed]",
      "text/plain": [
       "<Figure size 432x288 with 1 Axes>"
      ]
     },
     "metadata": {},
     "output_type": "display_data"
    }
   ],
   "source": [
    "print(\"Final train classification_rate:\", classification_rate(y_train, np.round(pYtrain)))\n",
    "print(\"Final test classification_rate:\", classification_rate(y_test, np.round(pYtest)))\n",
    "\n",
    "legend1, = plt.plot(train_costs, label='train cost')\n",
    "legend2, = plt.plot(test_costs, label='test cost')\n",
    "plt.legend([legend1, legend2])\n",
    "plt.show()"
   ]
  },
  {
   "cell_type": "code",
   "execution_count": 47,
   "metadata": {},
   "outputs": [
    {
     "name": "stdout",
     "output_type": "stream",
     "text": [
      "0 0.830016312128345 0.8158349821341688\n",
      "1000 0.18984505423907846 0.1617791829444269\n",
      "2000 0.18887136513270938 0.16067817329856082\n",
      "3000 0.1888102675194366 0.1605740140057322\n",
      "4000 0.18880558089558916 0.16055512557525414\n",
      "5000 0.18880520319837593 0.1605504911329284\n",
      "6000 0.18880517234233574 0.1605492229566067\n",
      "7000 0.1888051698117973 0.1605488642470158\n",
      "8000 0.18880516960403565 0.16054876182067046\n",
      "9000 0.18880516958697266 0.1605487324959502\n",
      "Final train classification_rate: 0.9782608695652174\n",
      "Final test classification_rate: 0.9868421052631579\n"
     ]
    },
    {
     "data": {
      "image/png": "[encoded data removed]",
      "text/plain": [
       "<Figure size 432x288 with 1 Axes>"
      ]
     },
     "metadata": {},
     "output_type": "display_data"
    }
   ],
   "source": [
    "# get the data\n",
    "Xtrain, Xtest, Ytrain, Ytest = get_binary_data()\n",
    "\n",
    "# randomly initialize weights\n",
    "D = Xtrain.shape[1]\n",
    "W = np.random.randn(D)\n",
    "b = 0 # bias term\n",
    "\n",
    "# make predictions\n",
    "def sigmoid(a):\n",
    "    return 1 / (1 + np.exp(-a))\n",
    "\n",
    "def forward(X, W, b):\n",
    "    return sigmoid(X.dot(W) + b)\n",
    "\n",
    "# calculate the accuracy\n",
    "def classification_rate(Y, P):\n",
    "    return np.mean(Y == P)\n",
    "\n",
    "# cross entropy\n",
    "def cross_entropy(T, pY):\n",
    "    return -np.mean(T*np.log(pY) + (1 - T)*np.log(1 - pY))\n",
    "\n",
    "# train loop\n",
    "train_costs = []\n",
    "test_costs = []\n",
    "learning_rate = 0.001\n",
    "for i in range(10000):\n",
    "    pYtrain = forward(Xtrain, W, b)\n",
    "    pYtest = forward(Xtest, W, b)\n",
    "\n",
    "    ctrain = cross_entropy(Ytrain, pYtrain)\n",
    "    ctest = cross_entropy(Ytest, pYtest)\n",
    "    train_costs.append(ctrain)\n",
    "    test_costs.append(ctest)\n",
    "\n",
    "    # gradient descent\n",
    "    W -= learning_rate*Xtrain.T.dot(pYtrain - Ytrain)\n",
    "    b -= learning_rate*(pYtrain - Ytrain).sum()\n",
    "    if i % 1000 == 0:\n",
    "        print(i, ctrain, ctest)\n",
    "\n",
    "print(\"Final train classification_rate:\", classification_rate(Ytrain, np.round(pYtrain)))\n",
    "print(\"Final test classification_rate:\", classification_rate(Ytest, np.round(pYtest)))\n",
    "\n",
    "legend1, = plt.plot(train_costs, label='train cost')\n",
    "legend2, = plt.plot(test_costs, label='test cost')\n",
    "plt.legend([legend1, legend2])\n",
    "plt.show()"
   ]
  },
  {
   "cell_type": "code",
   "execution_count": null,
   "metadata": {},
   "outputs": [],
   "source": []
  }
 ],
 "metadata": {
  "kernelspec": {
   "display_name": "Python 3",
   "language": "python",
   "name": "python3"
  },
  "language_info": {
   "codemirror_mode": {
    "name": "ipython",
    "version": 3
   },
   "file_extension": ".py",
   "mimetype": "text/x-python",
   "name": "python",
   "nbconvert_exporter": "python",
   "pygments_lexer": "ipython3",
   "version": "3.6.5"
  }
 },
 "nbformat": 4,
 "nbformat_minor": 2
}
