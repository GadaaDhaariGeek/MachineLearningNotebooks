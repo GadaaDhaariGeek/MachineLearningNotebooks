{
 "cells": [
  {
   "cell_type": "code",
   "execution_count": 34,
   "metadata": {},
   "outputs": [],
   "source": [
    "import numpy as np\n",
    "import matplotlib.pyplot as plt\n",
    "import seaborn as sns\n",
    "sns.set()\n",
    "\n",
    "import warnings \n",
    "warnings.filterwarnings(\"ignore\")"
   ]
  },
  {
   "cell_type": "code",
   "execution_count": 2,
   "metadata": {},
   "outputs": [],
   "source": [
    "# Sometimes we can have the relation which is non-linear directly but can have linear relationship if polynomial is \n",
    "# Considered. For Example, y = x^2. If we take x^2 = t, then equation becomes y = t, which is linear now. \n",
    "# So we try to fit a polynomial function to see if that works or not."
   ]
  },
  {
   "cell_type": "code",
   "execution_count": 88,
   "metadata": {},
   "outputs": [],
   "source": [
    "# Data generation\n",
    "N = 100\n",
    "X = np.random.uniform(low=-100, high=100, size=N)\n",
    "X2 = X**2\n",
    "\n",
    "Y = 0.1*X2 + X + 1 + np.random.normal(scale=40, size=N)"
   ]
  },
  {
   "cell_type": "code",
   "execution_count": 111,
   "metadata": {},
   "outputs": [],
   "source": [
    "# let's try to model this data with normal linear regression, Y = Xw + b. \n",
    "# Also, lets consume the bias term in w itself this time \n",
    "\n",
    "# Adding the bias term\n",
    "bias_term = np.ones((N, 1))\n",
    "X_with_bias = np.hstack((bias_term, X.reshape(N, 1)))\n",
    "\n",
    "# Calculating the weight \n",
    "w = np.linalg.solve(a = np.dot(X_with_bias.T, X_with_bias), b = np.dot(X_with_bias.T, Y))\n",
    "\n",
    "# Calculating new predictions\n",
    "Y_predicted = X_with_bias.dot(w)"
   ]
  },
  {
   "cell_type": "code",
   "execution_count": 113,
   "metadata": {},
   "outputs": [
    {
     "name": "stdout",
     "output_type": "stream",
     "text": [
      "r2:  0.02283120368956515\n"
     ]
    }
   ],
   "source": [
    "# Calculating the r squared \n",
    "ss_res = (Y - Y_predicted).dot(Y - Y_predicted)\n",
    "ss_tot = (Y - Y.mean()).dot(Y - Y.mean())\n",
    "r2 = 1 - ss_res/ss_tot\n",
    "print(\"r2: \", r2)"
   ]
  },
  {
   "cell_type": "code",
   "execution_count": 114,
   "metadata": {},
   "outputs": [],
   "source": [
    "# This is not a good value of r squared. That means our data is not linear. \n",
    "# Let's look at the original data once."
   ]
  },
  {
   "cell_type": "code",
   "execution_count": 115,
   "metadata": {},
   "outputs": [
    {
     "data": {
      "image/png": "[encoded data removed]",
      "text/plain": [
       "<Figure size 432x288 with 1 Axes>"
      ]
     },
     "metadata": {},
     "output_type": "display_data"
    }
   ],
   "source": [
    "plt.scatter(X, Y, edgecolors=\"black\", color=\"yellow\")\n",
    "plt.show()"
   ]
  },
  {
   "cell_type": "code",
   "execution_count": 52,
   "metadata": {},
   "outputs": [],
   "source": [
    "# Above data seems like a distorted x^2 or polynomial in nature."
   ]
  },
  {
   "cell_type": "code",
   "execution_count": 119,
   "metadata": {},
   "outputs": [],
   "source": [
    "# Now suppose we dont know the data as such and we want to model the data in polynomial way. \n",
    "# We will add the values of polynomial of different degrees to our data.\n",
    "# This time we will take the bias term inside X only. \n",
    "\n",
    "bias_term = np.ones((N, 1))\n",
    "X_poly = np.hstack((bias_term, X.reshape(N, 1), (X**2).reshape(N, 1)))\n",
    "\n",
    "# Solving the equation \n",
    "w = np.linalg.solve(a = np.dot(X_poly.T, X_poly), b = np.dot(X_poly.T, Y))\n",
    "\n",
    "# Predicting the values\n",
    "Y_predicted = X_poly.dot(w)"
   ]
  },
  {
   "cell_type": "code",
   "execution_count": 120,
   "metadata": {},
   "outputs": [
    {
     "name": "stdout",
     "output_type": "stream",
     "text": [
      "r2:  0.984665401888976\n"
     ]
    }
   ],
   "source": [
    "# Calculating the r squared \n",
    "ss_res = (Y - Y_predicted).dot(Y - Y_predicted)\n",
    "ss_tot = (Y - Y.mean()).dot(Y - Y.mean())\n",
    "r2 = 1 - ss_res/ss_tot\n",
    "print(\"r2: \", r2)"
   ]
  },
  {
   "cell_type": "code",
   "execution_count": 122,
   "metadata": {},
   "outputs": [],
   "source": [
    "# This time the r-squared is close to 1, which means our model did very good job by transforming the data into polynomial \n",
    "# degrees and then modeling the data using linear regression. \n",
    "\n",
    "# Sometimes we need to see the data and try to do trial and run to see if there is any polynomial relationship of data."
   ]
  }
 ],
 "metadata": {
  "kernelspec": {
   "display_name": "Python 3",
   "language": "python",
   "name": "python3"
  },
  "language_info": {
   "codemirror_mode": {
    "name": "ipython",
    "version": 3
   },
   "file_extension": ".py",
   "mimetype": "text/x-python",
   "name": "python",
   "nbconvert_exporter": "python",
   "pygments_lexer": "ipython3",
   "version": "3.6.5"
  }
 },
 "nbformat": 4,
 "nbformat_minor": 2
}
