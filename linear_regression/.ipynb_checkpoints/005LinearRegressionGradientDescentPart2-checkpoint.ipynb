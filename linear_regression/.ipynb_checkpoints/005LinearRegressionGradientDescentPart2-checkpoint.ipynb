{
 "cells": [
  {
   "cell_type": "code",
   "execution_count": 5,
   "metadata": {},
   "outputs": [],
   "source": [
    "# This notebook is to show how to reach the minima of the function having two variables.\n",
    "# Our cost function or function whose minima we have to find it x1^2 + x2^4.\n",
    "# We have to find the value of x1 and x2, for which the function will have minium value.\n",
    "\n",
    "import matplotlib.pyplot as plt"
   ]
  },
  {
   "cell_type": "code",
   "execution_count": 2,
   "metadata": {},
   "outputs": [],
   "source": [
    "# Defining the cost function\n",
    "def J(x1, x2):\n",
    "    return (x1**2 + x2**4)"
   ]
  },
  {
   "cell_type": "code",
   "execution_count": 3,
   "metadata": {},
   "outputs": [],
   "source": [
    "# Defining derivative terms (partial derivatives of cost function) of x1 and x2 terms\n",
    "\n",
    "def g1(x1):\n",
    "    return 2 * x1\n",
    "\n",
    "def g2(x2):\n",
    "    return 4 * (x2**3)"
   ]
  },
  {
   "cell_type": "code",
   "execution_count": 16,
   "metadata": {},
   "outputs": [],
   "source": [
    "# Intializing values\n",
    "learning_rate = 1e-3\n",
    "x1 = 10\n",
    "x2 = -10\n",
    "\n",
    "values = []\n",
    "\n",
    "for i in range(1000):\n",
    "    values.append(J(x1, x2))\n",
    "    x1 -= learning_rate*g1(x1)\n",
    "    x2 -= learning_rate*g2(x2)\n",
    "    \n",
    "values.append(J(x1, x2))"
   ]
  },
  {
   "cell_type": "code",
   "execution_count": 17,
   "metadata": {},
   "outputs": [
    {
     "name": "stdout",
     "output_type": "stream",
     "text": [
      "Final values of x1 and x2:  1.3506452244668374 -0.3523517418121237\n"
     ]
    }
   ],
   "source": [
    "print(\"Final values of x1 and x2: \", x1, x2)"
   ]
  },
  {
   "cell_type": "code",
   "execution_count": 18,
   "metadata": {},
   "outputs": [
    {
     "name": "stdout",
     "output_type": "stream",
     "text": [
      "Minima obtained:  1.8396561793927169\n"
     ]
    }
   ],
   "source": [
    "print(\"Minima obtained: \", values[-1])"
   ]
  },
  {
   "cell_type": "code",
   "execution_count": 15,
   "metadata": {},
   "outputs": [
    {
     "data": {
      "image/png": "[encoded data removed]",
      "text/plain": [
       "<Figure size 432x288 with 1 Axes>"
      ]
     },
     "metadata": {},
     "output_type": "display_data"
    }
   ],
   "source": [
    "plt.plot(values)\n",
    "plt.show()"
   ]
  }
 ],
 "metadata": {
  "kernelspec": {
   "display_name": "Python 3",
   "language": "python",
   "name": "python3"
  },
  "language_info": {
   "codemirror_mode": {
    "name": "ipython",
    "version": 3
   },
   "file_extension": ".py",
   "mimetype": "text/x-python",
   "name": "python",
   "nbconvert_exporter": "python",
   "pygments_lexer": "ipython3",
   "version": "3.6.5"
  }
 },
 "nbformat": 4,
 "nbformat_minor": 2
}
