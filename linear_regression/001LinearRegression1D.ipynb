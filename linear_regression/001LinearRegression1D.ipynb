{
 "cells": [
  {
   "cell_type": "markdown",
   "metadata": {
    "_cell_guid": "79c7e3d0-c299-4dcb-8224-4455121ee9b0",
    "_uuid": "d629ff2d2480ee46fbb7e2d37f6b5fab8052498a",
    "collapsed": true
   },
   "source": [
    "Linear Regression assumes that output variable can be modeled as linear combination of input features. \n",
    "\n",
    "Mathematically, it looks like this:\n",
    "\n",
    "Y = X.W + b, where w is weight vector containing weights for each feature, Y is dependent variable, X is independent features and b is the bias. The reason why we take a transpose here for w is because in statistics, by default when we talk about a vector its gonna be a column vector. \n",
    "\n",
    "Assuming we have N points and one feature, then X will be (Nx1) vector, b is a scalar. Since we only have one feature, w will be weight associated with it and its dimension will be (1x1) (you can say a scalar). But if we would have D features then X would have been (NxD) and w would been of shape (Dx1). "
   ]
  },
  {
   "cell_type": "code",
   "execution_count": 1,
   "metadata": {},
   "outputs": [
    {
     "data": {
      "image/png": "[encoded data removed]",
      "text/plain": [
       "<Figure size 432x288 with 1 Axes>"
      ]
     },
     "metadata": {
      "needs_background": "light"
     },
     "output_type": "display_data"
    }
   ],
   "source": [
    "# Generating 1D data \n",
    "import numpy as np \n",
    "import matplotlib.pyplot as plt\n",
    "\n",
    "# Number of data points\n",
    "N = 100\n",
    "\n",
    "X = np.random.uniform(low=0, high=100, size=N)\n",
    "\n",
    "# Making y = 2x + 1 + some gaussian or normal noise (assumption of linear regression itself)\n",
    "Y = 2 * X + 1 + np.random.normal(scale=10, size=N)\n",
    "\n",
    "# Plotting the data to see if it looks linear\n",
    "plt.scatter(X, Y, edgecolors='black', color=\"red\")\n",
    "plt.show()"
   ]
  },
  {
   "cell_type": "code",
   "execution_count": 2,
   "metadata": {},
   "outputs": [],
   "source": [
    "# Applying linear regression\n",
    "# After doing the OLS minimizations we get below eqautions for w and b\n",
    "denominator = X.dot(X) - X.mean() * X.sum()\n",
    "w = ( X.dot(Y) - Y.mean()*X.sum() ) / denominator\n",
    "b = ( Y.mean() * X.dot(X) - X.mean() * X.dot(Y) ) / denominator"
   ]
  },
  {
   "cell_type": "code",
   "execution_count": 3,
   "metadata": {},
   "outputs": [],
   "source": [
    "Yhat = w * X + b"
   ]
  },
  {
   "cell_type": "code",
   "execution_count": 4,
   "metadata": {},
   "outputs": [
    {
     "data": {
      "image/png": "[encoded data removed]",
      "text/plain": [
       "<Figure size 432x288 with 1 Axes>"
      ]
     },
     "metadata": {
      "needs_background": "light"
     },
     "output_type": "display_data"
    }
   ],
   "source": [
    "plt.scatter(X, Y, edgecolors='black')\n",
    "plt.plot(X, Yhat, color=\"red\")\n",
    "plt.show()"
   ]
  },
  {
   "cell_type": "code",
   "execution_count": 5,
   "metadata": {},
   "outputs": [
    {
     "name": "stdout",
     "output_type": "stream",
     "text": [
      "w:  1.961446090798849  and b:  1.2078862165966096\n"
     ]
    }
   ],
   "source": [
    "# It seems our model (line) has done pretty well in identifying the relationship. Of course we made up the data. \n",
    "# Let's look at the weights \n",
    "print(\"w: \", w, \" and b: \", b)"
   ]
  },
  {
   "cell_type": "code",
   "execution_count": 6,
   "metadata": {},
   "outputs": [],
   "source": [
    "# w which is the slope of line is close to 2 (as in our original data) and bias term is having 1 and the gaussian \n",
    "# noise which we added"
   ]
  },
  {
   "cell_type": "code",
   "execution_count": 7,
   "metadata": {},
   "outputs": [
    {
     "name": "stdout",
     "output_type": "stream",
     "text": [
      "MSE:  99.16516238735129\n"
     ]
    }
   ],
   "source": [
    "# calcualting MSE \n",
    "mse = (Yhat - Y).dot(Yhat - Y)/N\n",
    "print(\"MSE: \", mse)"
   ]
  },
  {
   "cell_type": "code",
   "execution_count": 8,
   "metadata": {},
   "outputs": [
    {
     "name": "stdout",
     "output_type": "stream",
     "text": [
      "The r-squared is:  0.9725776847081711\n"
     ]
    }
   ],
   "source": [
    "# MSE or even RMSE doesn't really tell about the model. So we cxalculate R^2 which tells how good our model fit the \n",
    "# data\n",
    "ss_res = Y - Yhat\n",
    "ss_tot = Y - Y.mean()\n",
    "r2 = 1 - ss_res.dot(ss_res)/ss_tot.dot(ss_tot)\n",
    "print(\"The r-squared is: \", r2)"
   ]
  },
  {
   "cell_type": "code",
   "execution_count": 9,
   "metadata": {},
   "outputs": [],
   "source": [
    "# This value of r-suared is pretty good, as it can be maximum of 1. This means our data is modeled properly by our \n",
    "# model"
   ]
  }
 ],
 "metadata": {
  "kernelspec": {
   "display_name": "Python 3",
   "language": "python",
   "name": "python3"
  },
  "language_info": {
   "codemirror_mode": {
    "name": "ipython",
    "version": 3
   },
   "file_extension": ".py",
   "mimetype": "text/x-python",
   "name": "python",
   "nbconvert_exporter": "python",
   "pygments_lexer": "ipython3",
   "version": "3.6.5"
  }
 },
 "nbformat": 4,
 "nbformat_minor": 1
}
