{
 "cells": [
  {
   "cell_type": "code",
   "execution_count": 1,
   "metadata": {},
   "outputs": [],
   "source": [
    "# Gradient descent is a method of optimization by using gradient while estimating the weighhts. \n",
    "# It is a general method which works in almost all the cases even in dummy variables trap scenarios for categorical\n",
    "# variables.\n",
    "# Below is the equation of gradient descent: \n",
    "# w_new = w_old + (learning_rate * gradient_at_w_old)"
   ]
  },
  {
   "cell_type": "code",
   "execution_count": 15,
   "metadata": {},
   "outputs": [
    {
     "name": "stdout",
     "output_type": "stream",
     "text": [
      "X:  [[1. 1. 0.]\n",
      " [1. 1. 0.]\n",
      " [1. 1. 0.]\n",
      " [1. 1. 0.]\n",
      " [1. 1. 0.]\n",
      " [1. 0. 1.]\n",
      " [1. 0. 1.]\n",
      " [1. 0. 1.]\n",
      " [1. 0. 1.]\n",
      " [1. 0. 1.]]\n"
     ]
    }
   ],
   "source": [
    "import numpy as np\n",
    "import matplotlib.pyplot as plt\n",
    "\n",
    "# Number of records\n",
    "N = 10\n",
    "\n",
    "# Number of dimensions \n",
    "D = 3\n",
    "\n",
    "# Generating the numbers\n",
    "X = np.zeros((N, D))\n",
    "X[:, 0] = 1\n",
    "X[:5, 1] = 1\n",
    "X[5:, 2] = 1\n",
    "\n",
    "print(\"X: \", X)"
   ]
  },
  {
   "cell_type": "code",
   "execution_count": 16,
   "metadata": {},
   "outputs": [
    {
     "name": "stdout",
     "output_type": "stream",
     "text": [
      "Y:  [0 0 0 0 0 1 1 1 1 1]\n"
     ]
    }
   ],
   "source": [
    "Y = np.array([0]*5 + [1]*5)\n",
    "\n",
    "print(\"Y: \", Y)"
   ]
  },
  {
   "cell_type": "code",
   "execution_count": 5,
   "metadata": {},
   "outputs": [],
   "source": [
    "# In this case below equation won't work as we have collinear data points.\n",
    "# w = np.linalg.solve(X.T.dot(X), X.T.dot(Y))\n",
    "\n",
    "# So we use gradient descent in this case"
   ]
  },
  {
   "cell_type": "code",
   "execution_count": 29,
   "metadata": {},
   "outputs": [],
   "source": [
    "cost = []\n",
    "# Random initialization of weights \n",
    "w = np.random.randn(D) / np.sqrt(D)\n",
    "learning_rate = .001\n",
    "for t in range(1000):\n",
    "    \n",
    "    # calculate new value\n",
    "    Yhat = X.dot(w)\n",
    "    delta = Yhat - Y\n",
    "    \n",
    "    # update w\n",
    "    w = w - learning_rate * X.T.dot(delta)\n",
    "    \n",
    "    mse = delta.dot(delta)/N\n",
    "    cost.append(mse)"
   ]
  },
  {
   "cell_type": "code",
   "execution_count": 30,
   "metadata": {},
   "outputs": [
    {
     "data": {
      "image/png": "[encoded data removed]",
      "text/plain": [
       "<Figure size 432x288 with 1 Axes>"
      ]
     },
     "metadata": {},
     "output_type": "display_data"
    }
   ],
   "source": [
    "plt.plot(cost)\n",
    "plt.show()"
   ]
  },
  {
   "cell_type": "code",
   "execution_count": 31,
   "metadata": {},
   "outputs": [
    {
     "name": "stdout",
     "output_type": "stream",
     "text": [
      "final w:  [-0.01913007  0.01852079  1.01973877]\n"
     ]
    }
   ],
   "source": [
    "print(\"final w: \", w)"
   ]
  },
  {
   "cell_type": "code",
   "execution_count": 32,
   "metadata": {},
   "outputs": [
    {
     "data": {
      "image/png": "[encoded data removed]",
      "text/plain": [
       "<Figure size 432x288 with 1 Axes>"
      ]
     },
     "metadata": {},
     "output_type": "display_data"
    }
   ],
   "source": [
    "# Plot prediction vs target \n",
    "plt.plot(Yhat, label=\"prediction\")\n",
    "plt.plot(Y, label = \"target\")\n",
    "plt.legend()\n",
    "plt.show()"
   ]
  }
 ],
 "metadata": {
  "kernelspec": {
   "display_name": "Python 3",
   "language": "python",
   "name": "python3"
  },
  "language_info": {
   "codemirror_mode": {
    "name": "ipython",
    "version": 3
   },
   "file_extension": ".py",
   "mimetype": "text/x-python",
   "name": "python",
   "nbconvert_exporter": "python",
   "pygments_lexer": "ipython3",
   "version": "3.6.5"
  }
 },
 "nbformat": 4,
 "nbformat_minor": 2
}
